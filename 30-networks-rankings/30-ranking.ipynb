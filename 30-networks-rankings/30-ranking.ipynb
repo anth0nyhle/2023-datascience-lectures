{
 "cells": [
  {
   "cell_type": "markdown",
   "metadata": {
    "slideshow": {
     "slide_type": "slide"
    }
   },
   "source": [
    "# Introduction to Data Science \n",
    "# Lecture 28: Ratings, Rankings, and Elections\n",
    "*COMP 5360 / MATH 4100, University of Utah, http://datasciencecourse.net/*\n",
    "\n",
    "In this lecture, we'll study methods for ratings, rankings, and elections. In particular, we'll discuss\n",
    "\n",
    "* methods and applications for ratings and rankings \n",
    "* Arrow's impossibility theorem \n",
    "* rating/ranking in sports\n",
    "* the least squares method for rating, a.k.a. HodgeRank \n",
    "\n",
    "Recommended Reading:\n",
    "* A. N. Langville and C. D. Meyer, [Who's \\#1?: The Science of Rating and Ranking](https://doi.org/10.1515/9781400841677), Princeton University Press (2012).\n",
    "* C. Borgers, [Mathematics of Social Choice](https://doi.org/10.1137/1.9780898717624), SIAM (2010).\n"
   ]
  },
  {
   "cell_type": "code",
   "execution_count": null,
   "metadata": {
    "slideshow": {
     "slide_type": "slide"
    }
   },
   "outputs": [],
   "source": [
    "# imports and setup\n",
    "import numpy as np\n",
    "import pandas as pd\n",
    "import networkx as nx\n",
    "\n",
    "import matplotlib.pyplot as plt\n",
    "from matplotlib.colors import ListedColormap\n",
    "%matplotlib inline\n",
    "plt.rcParams['figure.figsize'] = (10, 6)"
   ]
  },
  {
   "cell_type": "markdown",
   "metadata": {},
   "source": [
    "## Ratings vs. Rankings \n",
    "\n",
    "+ A *rating* assigns each item a numerical score. \n",
    "+ A *ranking* refers to a rank-ordered list of items. \n",
    "\n",
    "Rankings can be obtained from ratings by sorting. \n",
    "\n",
    "**Applications involving rating/ranking:** \n",
    "+ Sports (football, tennis, baseball, chess, ...) \n",
    "+ Ranking webpages (Google)\n",
    "+ Online e-commerce (Amazon, Netflix, ...)\n",
    "+ College Rankings (US News, ...)\n",
    "+ Social networks (Facebook, ...)\n",
    "+ Political elections \n",
    "+ ...\n",
    "\n"
   ]
  },
  {
   "cell_type": "markdown",
   "metadata": {
    "slideshow": {
     "slide_type": "slide"
    }
   },
   "source": [
    "## Elections and Arrow's impossibility theorem \n",
    "\n",
    "\n",
    "### Elections vs. winner selection\n",
    "We define an *election procedure* as a method for generating a ranking (ordering) of a set of candidates from voter preferences. Note that an election does not just name the top candidate, but instead, ranks all of the candidates. (This slightly differs from everyday usage.) We refer to a procedure that only decides the top candidate as a *winner selection method*. \n",
    "\n",
    "What is the relationship between these two problems? Clearly, one could recursively use a winner selection method   to define an election procedure. (First choose a winner, then remove the winner from the ballot and use the winner selection method to choose the runner-up, *etc*...) Conversely, the number one ranked alternative in an election procedure can be considered the winner, so every election procedure generates a winner selection method. So are these two problems---elections and winner selection---really equivalent? No, there are election procedures which cannot be derived from recursively selecting a winner.  Thus, election procedures are more general and winner selection methods should be considered a subset of election procedures. \n",
    "\n",
    "First, note that if there are only two candidates, then the  election and winner-selection methods are the same. In this case,  any reasonable method will select the candidate for which the *majority* of the electorate favors.  In the following discussion, we'll assume that there are three or more candidates. The interesting case arises when no single candidate receives a majority of the votes. \n",
    "\n",
    "**Examples:**  In the U. S., elections are generally decided by the plurality method or some variation thereof. (Presidential elections in the U.S. involve the electoral college, but I'm not going to discuss this here.) In the *plurality method*, each voter votes for a single candidate and the candidate with the most votes is declared the winner. It often occurs that the candidate does not receive a majority of the votes.  For example, George W. Bush was elected president in 2000 with 47.87% of the votes and Bill Clinton was elected president in 1992 with 43.01% of the votes. In both cases, \"third-party\" candidates (Ralph Nader and Ross Perot respectively) prevented the winner (or, possibly, the runner-up) from receiving a majority vote. Other voting methods may have resulted in alternative  outcomes in these two elections. For example, in France, Russia, and Brazil, a *runoff election* is held, in which only the top two candidates appear on the ballot. This idea can be further generalized to an election procedure called the *elimination method*, where the candidate with the smallest number of votes is removed from the ballot in each round. This method is used by the International Olympic Committee to select the host for the Olympic games. \n",
    "\n",
    "\n",
    "### Election methods\n",
    "We write $a,b,c,\\ldots$ to denote candidates and $i,j,k,\\ldots$ to denote voters. \n",
    "Each voter has his/her own preferences. We write \n",
    "$a \\succ_i b$\n",
    "if candidate $a$ is preferred to candidate $b$ by voter $i$. If voter $i$ has no preference over candidates $a$ and $b$, we write $a=_i b$. Finally we write \n",
    "$a \\succeq_i b$\n",
    "to indicate that candidate $b$ is not preferred to candidate $a$ by voter $i$; that is, either: $a\\succ_i b$ or $a=_i b$.  We require the voter preferences to satisfy the following relationships:\n",
    "1. For each pair of candidates, $a$ and $b$,  exactly one of the following holds: $a\\succ_i b$, $b\\succ_i a$, or $a=_i b$. \n",
    "+ For all candidates $a$, $a=_i a$. \n",
    "+ Each voter ranking should give a transitive relation: $a \\succeq_i b$ and $b \\succeq_i c$ implies that $a \\succeq_i c$ \n",
    "with $a=_i c$ if and only if $a=_i b$ and $b=_i c$. \n",
    "\n",
    "An *election method* is a method for generating a ranking of the candidates from the voter preferences that satisfy the above three properties. The relationships generated by the election procedure are  denoted by $\\succ$, $=$, and $\\succeq$. \n",
    "\n",
    "There are many different election methods, for example, the [Borda count](https://en.wikipedia.org/wiki/Borda_count) and [Copeland](https://en.wikipedia.org/wiki/Copeland%27s_method) methods. It can be shown that these methods have drastically different properties. \n",
    "\n",
    "**Example:** \n",
    "We say that a candidate is a *Condorcet candidate* if he beats every other candidate in head-to-head competition (that is, with all other candidates removed from the ballot).  It is not difficult to show that a Condorcet candidate does not necessarily exist, but if one does, it is unique. Intuitively it would seem desirable for a winner selection method to select the Condorcet candidate, if one exists. One can show that the Copeland  method has the property but the Borda count does not. \n",
    "\n",
    "This might prompt us to write down a list of desirable properties and then see which election methods satisfy which properties. \n",
    "\n",
    "![http://en.wikipedia.org/wiki/Voting_system](ElectionMethodProperties.png)\n",
    "\n",
    "Each row of the table is an election method and each column is a desirable property. The entries of the table indicate whether or not the election method satisfies that property. Don't worry about how we define all of these methods or all of the properties. Note that Plurality, Runoff voting, Borda count, and Copeland are among the methods compared and  that the Condorcet property is the third column in the table. \n",
    "\n",
    "\n",
    "Looking at this table, we observe that none of the election methods satisfy all of the (desirable) properties. Of course, tomorrow someone could invent a new election method and we could then check to see which of these properties hold for that method.  This leads us to the following question: is it possible that there exists a method that  satisfies all (or possibly a chosen subset) of these properties?  \n",
    "\n",
    "### Arrow's impossibility theorem\n",
    "In the following, we define five sensible criteria which we expect a fair and reasonable  election procedure should satisfy. Surprisingly, in 1963, Kenneth Arrow proved that there does not exist an election procedure which can satisfy all five criteria. \n",
    "\n",
    "We say an election procedure is *fair* if it satisfies the following five criteria:\n",
    "1. All conceivable voter rankings are allowed. \n",
    "2. If $a \\succeq_i b$ for all voters $i$, then $a\\succeq b$ with equality if and only if $a=_i b$ for all voters $i$. We interpret this to mean that unanimous opinions are respected. \n",
    "3. If in two different elections, each voter ranks candidates $a$ and $b$ the same, then the election outcomes between $a$ and $b$ are the same in the two elections. That is, how candidates are ranked relative to each other in an election depends only on how the voters rank them relative to each other and not how they are ranked relative to other candidates. Denoting preferences in the second election by the symbol $\\supseteq$, we express this property in symbols: \n",
    "$$\n",
    " \\text{If} \\ \\forall i, \\ a\\succeq_i b \\ \\iff \\ a\\supseteq_i b, \\quad  \\text{then} \\ a\\succeq b \\iff a \\supseteq b.  \n",
    "$$\n",
    "4. If there are two elections such that $a\\succeq_i b$ implies $a \\supseteq_i b$ for all $i$, and if also $a \\succeq b$, then $a\\supseteq b$. In other words, if $a$ does at least as well as $b$ in a later ranking by the voters as he did in the present ranking, and if he beat $b$ in the present election, he'll beat $b$ in the later election. \n",
    "5.  There is no voter $i$ such that $a\\succ b$ if and only if $a\\succ_i b$. In other words, there is no dictator. \n",
    "\n",
    "To illustrate the absurdity that the presence of the third option should not influence the voters preference between the other two, we consider the following anecdote attributed to Sidney Morgenbesser. \n",
    "\n",
    "```After finishing his meal, a diner decides to order dessert from a restaurant. The waitress tells him he has two choices: apple pie and blueberry pie. The diner orders the apple pie. After a few minutes the waitress returns and says that they also have cherry pie at which point the diner says: \"In that case I'll have the blueberry pie.\" ```\n",
    "\n",
    "**Arrow's Impossibility Theorem.** No election procedure for three or more candidates is fair. \n",
    "\n",
    "In practice, one has to be very careful when considering the method used for an election. No method is fair and, at worse, the method can be exploited by a coalition of the voters. \n"
   ]
  },
  {
   "cell_type": "markdown",
   "metadata": {
    "slideshow": {
     "slide_type": "slide"
    }
   },
   "source": [
    "## Rating/ranking in sports\n",
    "\n",
    "\n",
    "*\"At a Lawn Tennis Tournament where I chanced, some while ago, to be a spectator, the present method of assigning prizes was brought to my notice by the lamentations of one of the Players, who had been beaten (and had thus lost all chance of a prize) early in the contest, and who had had the mortification of seeing the 2nd prize carried off by a Player whom he knew to be quite inferior to himself.\"*\n",
    "---Charles Dodgson a.k.a Lewis Carroll (1883) \n",
    "\n",
    "\n",
    "Below, it will be convenient to use the language of sports to describe rating/ranking methods (*e.g.*, items to be ranked are teams). But, keep in mind that the methods discussed are more general than sports applications. \n",
    "\n",
    "**Rating methods:**\n",
    "+ Least squares methods (a.k.a. $\\ell^2$ norm, HodgeRank, Massey, Colley, ...)\n",
    "+ Least absolute deviation ($\\ell^1$ norm)\n",
    "+ Probabilistic methods such as the Bradley-Terry and Thurstone models\n",
    "+ Methods based on the Perron-Frobenius theorem (Keener, PageRank,...)\n",
    "+ Elo's method\n",
    "+ ...\n",
    "\n",
    "\n",
    "Here I've listed just a few methods for rating/ranking, but there are many more. The [masseyratings.com](http://www.masseyratings.com/cf/compare.htm) website has a comparison of 103 different rankings for NCAA college football. \n",
    "\n",
    "The simplest rating method rates teams based on their *winning percentage*. This is the method used in Major League Baseball (MLB). One drawback of this method is that it fails to take into account the strength of the teams' opponent (strength of schedule). \n",
    "\n",
    "We'll focus on the **least squares method**, which is perhaps the simplest method that does take into account the strength of opponents. \n",
    "\n"
   ]
  },
  {
   "cell_type": "markdown",
   "metadata": {
    "slideshow": {
     "slide_type": "slide"
    }
   },
   "source": [
    "## Least Squares Rating\n",
    "\n",
    "**Data:** We start with a pairwise comparison dataset, consisting of \n",
    "+ a collection of $n$ items to be ranked,  $V =\\{ i\\}_{i=1}^n$\n",
    "+ pairwise comparisons, $y_{i,j}$, comparing items $i$ and $j$\n",
    "+ confidence weights, $w_{i,j}$, in the comparison between items $i$ and $j$.  \n",
    "\n",
    "It might be the case that not all items in the dataset have been compared. For such pairs, $(i,j)$, we set the confidence weights $w_{i,j}=0$. We also require that the pairwise comparisons are anti-symmetric, *i.e.*, \n",
    "$y_{i,j} = - y_{j,i}$. This simply means that item $i$ is preferred to item $j$ as much as item $j$ is dispreferred to item $i$. \n",
    "\n",
    "\n",
    "**Goal:** Find a rating $\\phi_i$ for $i\\in V$ such that \n",
    "$$\n",
    "\\phi_i - \\phi_j \\approx y_{i,j}, \n",
    "$$\n",
    "where the comparisons with high confidences are matched more closely than comparisons with a low confidence (as measured by $w_{i,j}$). \n",
    "\n",
    "\n",
    "One way to make this problem precise is to define the function \n",
    "$$\n",
    "J(\\phi) = \\sum_{i,j} w_{i,j} (\\phi_i - \\phi_j - y_{i,j})^2,\n",
    "$$ \n",
    "and then to minimize\n",
    "$$\n",
    "\\min_{\\phi\\in \\mathbb R^n} \\ J(\\phi). \n",
    "$$\n",
    "A minimizer of this problem is  called the least squares rating or HodgeRank estimate. Note that in the objective function $J(\\phi)$, we pay a penalty proportional to $w_{i,j}$ when $\\phi_i - \\phi_j \\neq y_{i,j}$; the solution minimizes this cost. \n"
   ]
  },
  {
   "cell_type": "markdown",
   "metadata": {
    "slideshow": {
     "slide_type": "slide"
    }
   },
   "source": [
    "## Interpretation on a directed graph\n",
    "We can interpret this problem on a directed graph as follows. A vertex is assigned to each item to be ranked. We then add directed edges (arcs) to the graph between each vertex pair for which there is a pairwise comparison.  The orientation of the arcs is chosen based on the signs of the pairwise preferences. If $y_{i,j}>0$, then our convention is choose the arc orientation $(i,j)$ instead of $(j,i)$. Thus, the equation $\\phi_i - \\phi_j \\approx y_{i,j}$ is enforcing the requirement that item $i$ is preferred to item $j$. We enumerate the arcs $A = \\{k\\}_{k=1}^m$. The pairwise comparisons and confidence weights are then viewed as functions on the arc set, $A$. Let $D = (V,A)$. The *arc-vertex incidence matrix* for $D$ is $B \\in \\mathbb R^{m\\times n}$, with entries  \n",
    "$$\n",
    "B_{k,j} = \\begin{cases}\n",
    "1 & j = \\text{head}(k) \\\\\n",
    "-1 & j = \\text{tail}(k) \\\\\n",
    "0 & \\text{otherwise}. \n",
    "\\end{cases}\n",
    "$$\n",
    "We can use the matrix $B$ to rewrite the function $J$, in a very compact form:\n",
    "$$\n",
    "J(\\phi) = \\| B \\phi - y \\|_{2,w}^2. \n",
    "$$\n",
    "Here, $\\| \\cdot \\|_{2,w} $ is the $w$-weighted $\\ell^2$-norm, $\\| v \\|_{2,w} = \\sqrt{ \\sum_{k} w_k v_k^2} = \\sqrt{v^t W v}$, where $W = \\text{diag}(w)$.\n",
    "\n",
    "Thus, the least squares rating is the solution to the optimization problem\n",
    "$$\n",
    "\\min_{\\phi\\in \\mathbb R^n} \\  \\| B \\phi - y \\|_{2,w}^2 \n",
    "$$\n",
    "\n",
    "**Solution.** \n",
    "How do you solve the least squares problem? We can take the derivative and set it to zero to obtain the \"normal equations\". We write \n",
    "$$\n",
    "J(\\phi) = \\phi^t B^t W B \\phi - 2 y^t W B \\phi + y^t W y. \n",
    "$$\n",
    "Taking the gradient with respect to $\\phi$, we obtain \n",
    "$$\n",
    "0 = \\nabla_\\phi J = 2 B^t W B \\phi - 2 B^t W y  \\qquad \\implies \\qquad  B^t W B \\phi = B^t W y. \n",
    "$$\n",
    "Thus, the minimizer is a solution to this linear system of equations. \n",
    "\n",
    "**Interpretation.** \n",
    "The matrix, $B^t W B$, on the left-hand-side of this equation has a nice interpretation. \n",
    "This matrix, $\\Delta_w = B^t W B$,  is called the *$w$-weighted graph Laplacian*. The unweighted version, $\\Delta \\colon V \\to V$, has entries \n",
    "$$\n",
    " \\Delta_{i,j} = \\begin{cases}\n",
    "\\text{deg}(i) &  i = j \\\\\n",
    "-1 & i \\sim j \\\\\n",
    "0 & \\text{otherwise}\n",
    "\\end{cases}\n",
    "$$\n",
    "We can also write $\\Delta = D - A$ where $D$ is the degree matrix and $A$ is the adjacency matrix. \n",
    "The $w$-weighted graph Laplacian has entries \n",
    "$$\n",
    "( \\Delta_w)_{i,j} = \\begin{cases}\n",
    "\\text{deg}_w(i) & i = j \\\\\n",
    "-w_{i,j} & \\text{otherwise} \n",
    "\\end{cases}\n",
    "$$\n",
    "Here we have used the convention that $w_{i,j}=0$ if $i$ and $j$ are not adjacent and $\\text{deg}_w(i) = \\sum_{j \\in V} w_{i,j}$ are the $w$-weighted degrees. We can also write $\\Delta = D_w - W$ where $D_w$ is the $w$-weighted degree matrix and $W$ is the weight matrix. \n",
    "\n"
   ]
  },
  {
   "cell_type": "markdown",
   "metadata": {
    "slideshow": {
     "slide_type": "slide"
    }
   },
   "source": [
    "## Least Squares Rating: toy example\n",
    "\n",
    "We consider the following hypothetical sports problem. There are four football teams: Utah (U), BYU (Y), Colorado (C), and Idaho (I). Five games are played with the following results:\n",
    "\n",
    "U vs Y: 20 - 10 \n",
    "\n",
    "Y vs C: 7 - 10\n",
    "\n",
    "U vs C: 10 -10\n",
    "\n",
    "U vs I: 10 - 7\n",
    "\n",
    "I vs Y: 7 - 7\n",
    "\n",
    "We first construct the pairwise comparisons, $y_{i,j}$ defined by\n",
    "$$\n",
    "y_{i,j} = \\frac{\\text{points team $j$ scored - points team $i$ scored}}{\\text{total points in game}}. \n",
    "$$"
   ]
  },
  {
   "cell_type": "code",
   "execution_count": null,
   "metadata": {
    "slideshow": {
     "slide_type": "-"
    }
   },
   "outputs": [],
   "source": [
    "scores = np.array([(30, 10), (7, 10), (10, 10), (10, 7), (7, 7)])\n",
    "print(scores)\n",
    "\n",
    "y = (scores[:,1] - scores[:,0]) / (scores[:,0] + scores[:,1])\n",
    "print(y)"
   ]
  },
  {
   "cell_type": "markdown",
   "metadata": {
    "slideshow": {
     "slide_type": "-"
    }
   },
   "source": [
    "We also number the teams."
   ]
  },
  {
   "cell_type": "code",
   "execution_count": null,
   "metadata": {
    "scrolled": true,
    "slideshow": {
     "slide_type": "-"
    }
   },
   "outputs": [],
   "source": [
    "teams = ['Utah (U)','BYU (Y)','Colorado (C)','Idaho (I)']\n",
    "for i,t in enumerate(teams):\n",
    "    print(str(i) + ': ' + t)\n"
   ]
  },
  {
   "cell_type": "markdown",
   "metadata": {
    "slideshow": {
     "slide_type": "-"
    }
   },
   "source": [
    "Construct the arc-vertex incidence matrix\n",
    "$$\n",
    "B_{k,j} = \\begin{cases}\n",
    "1 & j = \\textrm{head}(k) \\\\\n",
    "-1 & j = \\textrm{tail}(k) \\\\\n",
    "0 & \\textrm{otherwise}. \n",
    "\\end{cases}\n",
    "$$\n",
    "This just keeps track of which teams have played which teams. "
   ]
  },
  {
   "cell_type": "code",
   "execution_count": null,
   "metadata": {
    "slideshow": {
     "slide_type": "-"
    }
   },
   "outputs": [],
   "source": [
    "B = np.zeros((5, 4))\n",
    "\n",
    "B[0,1] = 1; B[0,0] =-1;\n",
    "B[1,2] = 1; B[1,1] =-1; \n",
    "B[2,2] = 1; B[2,0] =-1; \n",
    "B[3,3] = 1; B[3,0] =-1; \n",
    "B[4,1] = 1; B[4,3] =-1; \n",
    "print(B)\n",
    "\n",
    "# now we have enough information just to print the  game results \n",
    "for i,sc in enumerate(y):\n",
    "    head = np.where(B[i,:]==1)[0][0]\n",
    "    tail = np.where(B[i,:]==-1)[0][0]\n",
    "    print(teams[head] + ' vs. ' + teams[tail] + ': ' +str(sc))\n"
   ]
  },
  {
   "cell_type": "markdown",
   "metadata": {
    "slideshow": {
     "slide_type": "-"
    }
   },
   "source": [
    "We now use the *lstsq* function in the np.linalg library to find the least squares rating, solving the least squares problem, \n",
    "$$\n",
    "\\min_{\\phi} \\ \\| B \\phi - y \\|^2. \n",
    "$$"
   ]
  },
  {
   "cell_type": "code",
   "execution_count": null,
   "metadata": {
    "slideshow": {
     "slide_type": "-"
    }
   },
   "outputs": [],
   "source": [
    "sol = np.linalg.lstsq(B,y,rcond=None)\n",
    "phi = sol[0]\n",
    "print(phi)"
   ]
  },
  {
   "cell_type": "code",
   "execution_count": null,
   "metadata": {
    "slideshow": {
     "slide_type": "-"
    }
   },
   "outputs": [],
   "source": [
    "ind = np.argsort(phi)\n",
    "ind = np.flipud(ind)\n",
    "sorted_phi = phi[ind]\n",
    "sorted_teams = [teams[i] for i in ind]\n",
    "\n",
    "for i,t in enumerate(sorted_teams):\n",
    "    print(t + ': rating = ' + str(sorted_phi[i]))"
   ]
  },
  {
   "cell_type": "markdown",
   "metadata": {
    "slideshow": {
     "slide_type": "slide"
    }
   },
   "source": [
    "## College Football Primer\n",
    "\n",
    "National Collegiate Athletic Association (NCAA) College Football is divided into two subdivisions: \n",
    "- Football Bowl Subdivision (FBS), formerly  Division I-A\n",
    "- Football Championship Subdivision (FCS), formerly Division I-AA\n",
    "\n",
    "We'll focus on the FBS. \n",
    "\n",
    "The FBS is further divided into 11 conferences, some of which have sub-divisions. For example, the University of Utah is in the South Division of the Pacific 12 (Pac-12) Conference. \n",
    "\n",
    "      A.  American Athletic Conference\n",
    "           i) East Division\n",
    "                Central Florida\n",
    "                Cincinnati\n",
    "                Connecticut\n",
    "                East Carolina\n",
    "                South Florida\n",
    "                Temple\n",
    "          ii) West Division\n",
    "                Houston\n",
    "                Memphis\n",
    "                Navy\n",
    "                SMU\n",
    "                Tulane\n",
    "                Tulsa\n",
    "      B.  Atlantic Coast Conference       \n",
    "           i) Atlantic Division\n",
    "                Boston College\n",
    "                Clemson\n",
    "                Florida St\n",
    "                Louisville\n",
    "                North Carolina St\n",
    "                Syracuse\n",
    "                Wake Forest\n",
    "         ii) Coastal Division\n",
    "                Duke\n",
    "                Georgia Tech\n",
    "                Miami FL\n",
    "                North Carolina\n",
    "                Pittsburgh\n",
    "                Virginia\n",
    "                Virginia Tech       \n",
    "      C.  Big 10 Conference\n",
    "           i) East Division\n",
    "                Indiana\n",
    "                Maryland\n",
    "                Michigan\n",
    "                Michigan St\n",
    "                Ohio State\n",
    "                Penn State\n",
    "                Rutgers\n",
    "         ii) West Division\n",
    "                Illinois\n",
    "                Iowa\n",
    "                Minnesota\n",
    "                Nebraska\n",
    "                Northwestern\n",
    "                Purdue\n",
    "                Wisconsin      \n",
    "      D.  Big 12 Conference\n",
    "            Baylor\n",
    "            Iowa St\n",
    "            Kansas\n",
    "            Kansas St\n",
    "            Oklahoma\n",
    "            Oklahoma St\n",
    "            Texas\n",
    "            TCU \n",
    "            Texas Tech\n",
    "            West Virginia\n",
    "      E.  Conference USA\n",
    "           i) East Division\n",
    "                Florida Atlantic\n",
    "                Florida Int'l\n",
    "                Marshall\n",
    "                Middle Tennessee St\n",
    "                UNC-Charlotte\n",
    "                Old Dominion\n",
    "                Western Kentucky\n",
    "          ii) West Division\n",
    "                Louisiana Tech\n",
    "                North Texas\n",
    "                Rice\n",
    "                Southern Miss\n",
    "                Texas-San Antonio\n",
    "                UTEP                   \n",
    "      F.  Mid-American Conference\n",
    "           i) East Division\n",
    "                Akron\n",
    "                Bowling Green\n",
    "                Buffalo\n",
    "                Kent St\n",
    "                Miami OH\n",
    "                Ohio U.\n",
    "          ii) West Division\n",
    "                Ball St\n",
    "                Central Michigan\n",
    "                Eastern Michigan\n",
    "                Northern Illinois\n",
    "                Toledo\n",
    "                Western Michigan\n",
    "      G.  Mountain West Conference\n",
    "           i) Mountain Division\n",
    "                Air Force\n",
    "                Boise St\n",
    "                Colorado St\n",
    "                New Mexico\n",
    "                Utah St\n",
    "                Wyoming\n",
    "          ii) West Division\n",
    "                Fresno St\n",
    "                Hawai`i\n",
    "                Nevada\n",
    "                San Diego St\n",
    "                San José St\n",
    "                UNLV      \n",
    "      H.  Pacific 12 Conference\n",
    "           i) North Division\n",
    "                California\n",
    "                Oregon\n",
    "                Oregon St\n",
    "                Stanford\n",
    "                Washington\n",
    "                Washington St\n",
    "          ii) South Division\n",
    "                Arizona\n",
    "                Arizona St\n",
    "                Colorado\n",
    "                Southern Cal\n",
    "                UCLA  \n",
    "                Utah        \n",
    "      I.  Southeastern Conference\n",
    "           i) Eastern Division\n",
    "                Florida\n",
    "                Georgia\n",
    "                Kentucky\n",
    "                Missouri\n",
    "                South Carolina\n",
    "                Tennessee\n",
    "                Vanderbilt\n",
    "          ii) Western Division\n",
    "                Alabama\n",
    "                Arkansas\n",
    "                Auburn\n",
    "                LSU\n",
    "                Mississippi\n",
    "                Mississippi St\n",
    "                Texas A&M\n",
    "      J.  Sun Belt Conference\n",
    "            Appalachian St\n",
    "            Arkansas St\n",
    "            Georgia Southern\n",
    "            Georgia St\n",
    "            Idaho\n",
    "            Louisiana-Lafayette\n",
    "            Louisiana-Monroe\n",
    "            New Mexico St\n",
    "            South Alabama\n",
    "            Texas St-San Marcos\n",
    "            Troy\n",
    "      K.  Division I FBS Independents\n",
    "            Army\n",
    "            Brigham Young\n",
    "            Massachusetts\n",
    "            Notre Dame  \n",
    "\n",
    "More conference information available [here](http://prwolfe.bol.ucla.edu/cfootball/conferences.htm). "
   ]
  },
  {
   "cell_type": "markdown",
   "metadata": {
    "slideshow": {
     "slide_type": "slide"
    }
   },
   "source": [
    "## Download and clean data\n",
    "\n",
    "We download the 2017 College Football game results from the \n",
    "[Massey Ratings website](http://masseyratings.com). \n",
    "\n"
   ]
  },
  {
   "cell_type": "markdown",
   "metadata": {
    "slideshow": {
     "slide_type": "-"
    }
   },
   "source": [
    "### First download a list of college team names"
   ]
  },
  {
   "cell_type": "code",
   "execution_count": null,
   "metadata": {
    "scrolled": false,
    "slideshow": {
     "slide_type": "-"
    }
   },
   "outputs": [],
   "source": [
    "io = \"teams.htm\"\n",
    "# io = \"https://www.masseyratings.com/scores.php?s=295489&sub=295489&all=1&mode=3&format=2\" # 2017\n",
    "# io = \"http://masseyratings.com/scores.php?s=286577&sub=286577&all=1&mode=3&format=2\" # 2016\n",
    "teams = pd.read_csv(io,names=['team'])\n",
    "teams['team'] = teams['team'].apply(str.strip)\n",
    "print(\"The number of teams is\", teams.shape[0])\n",
    "teams"
   ]
  },
  {
   "cell_type": "code",
   "execution_count": null,
   "metadata": {},
   "outputs": [],
   "source": []
  },
  {
   "cell_type": "code",
   "execution_count": null,
   "metadata": {
    "slideshow": {
     "slide_type": "-"
    }
   },
   "outputs": [],
   "source": [
    "# where is Utah in the Pandas series teams? \n",
    "teams[teams['team']=='Utah']"
   ]
  },
  {
   "cell_type": "code",
   "execution_count": null,
   "metadata": {
    "slideshow": {
     "slide_type": "-"
    }
   },
   "outputs": [],
   "source": [
    "teams.loc[857]['team']"
   ]
  },
  {
   "cell_type": "markdown",
   "metadata": {
    "slideshow": {
     "slide_type": "-"
    }
   },
   "source": [
    "### Download the game results"
   ]
  },
  {
   "cell_type": "code",
   "execution_count": null,
   "metadata": {
    "slideshow": {
     "slide_type": "-"
    }
   },
   "outputs": [],
   "source": [
    "io = \"scores.htm\"\n",
    "# io = \"https://www.masseyratings.com/scores.php?s=295489&sub=295489&all=1&mode=3&format=1\" #2017\n",
    "# io = \"http://masseyratings.com/scores.php?s=286577&sub=286577&all=1&mode=3&format=1\" #2016\n",
    "df = pd.read_csv(io,names=['id','date','team1','homefield1','score1','team2','homefield2','score2'])\n",
    "print(\"The number of games is\", df.shape[0])\n",
    "df"
   ]
  },
  {
   "cell_type": "markdown",
   "metadata": {
    "slideshow": {
     "slide_type": "-"
    }
   },
   "source": [
    "### Clean the data\n",
    "We'll ignore the homefield and add columns with the team's name, rather than just the team id. "
   ]
  },
  {
   "cell_type": "code",
   "execution_count": null,
   "metadata": {
    "slideshow": {
     "slide_type": "-"
    }
   },
   "outputs": [],
   "source": [
    "# add a new column with team names\n",
    "df.drop(['homefield1','homefield2'],inplace=True,axis=1)\n",
    "df.insert(3, 'team_name1', df['team1'].map(lambda i: teams['team'][i]))\n",
    "df.insert(6, 'team_name2', df['team2'].map(lambda i: teams['team'][i]))\n",
    "df"
   ]
  },
  {
   "cell_type": "markdown",
   "metadata": {
    "slideshow": {
     "slide_type": "slide"
    }
   },
   "source": [
    "## Consider only Pac 12 teams\n",
    "\n",
    "Our goal will be to rank the Pac 12 teams based on intra-conference games. "
   ]
  },
  {
   "cell_type": "code",
   "execution_count": null,
   "metadata": {
    "slideshow": {
     "slide_type": "-"
    }
   },
   "outputs": [],
   "source": [
    "P12 = ['California', 'Oregon', 'Oregon_St', 'Stanford', 'Washington', 'Washington_St', \n",
    "    'Arizona', 'Arizona_St', 'Colorado', 'USC', 'UCLA', 'Utah'] \n",
    "num_P12_teams = len(P12)\n",
    "\n",
    "# get PAC12 teams from teams\n",
    "P12_ind = teams[teams['team'].isin(P12)].index.tolist()  \n",
    "P12_teams = teams.loc[P12_ind]\n",
    "\n",
    "# assign a new ordering for teams\n",
    "P12_teams['P12_ind'] = np.arange(num_P12_teams)\n",
    "P12_teams['global_ind'] = P12_teams.index\n",
    "P12_teams.set_index('P12_ind',inplace=True)\n",
    "\n",
    "P12_teams"
   ]
  },
  {
   "cell_type": "code",
   "execution_count": null,
   "metadata": {
    "slideshow": {
     "slide_type": "-"
    }
   },
   "outputs": [],
   "source": [
    "P12_df = df[(df['team_name1'].isin(P12)) & (df['team_name2'].isin(P12))].copy()\n",
    "num_P12_games = P12_df.shape[0]\n",
    "print(num_P12_games)\n",
    "P12_df"
   ]
  },
  {
   "cell_type": "markdown",
   "metadata": {
    "slideshow": {
     "slide_type": "-"
    }
   },
   "source": [
    "## Use the Least Squares method to construct a rating\n",
    "\n",
    "We first construct the pairwise comparisons, $y_{i,j}$ defined by\n",
    "$$\n",
    "y_{i,j} = \\frac{\\text{points team $j$ scored - points team $i$ scored}}{\\text{total points in game}}. \n",
    "$$\n"
   ]
  },
  {
   "cell_type": "code",
   "execution_count": null,
   "metadata": {
    "slideshow": {
     "slide_type": "-"
    }
   },
   "outputs": [],
   "source": [
    "P12_df['y'] = (P12_df['score1'] - P12_df['score2']) / (P12_df['score1'] + P12_df['score2'])\n",
    "y = P12_df['y'].tolist()\n",
    "P12_df"
   ]
  },
  {
   "cell_type": "markdown",
   "metadata": {
    "slideshow": {
     "slide_type": "-"
    }
   },
   "source": [
    "Construct the arc-vertex incidence matrix\n",
    "$$\n",
    "B_{k,j} = \\begin{cases}\n",
    "1 & j = \\textrm{head}(k) \\\\\n",
    "-1 & j = \\textrm{tail}(k) \\\\\n",
    "0 & \\textrm{otherwise}. \n",
    "\\end{cases}\n",
    "$$\n",
    "This just keeps track of which teams played in each game. "
   ]
  },
  {
   "cell_type": "code",
   "execution_count": null,
   "metadata": {
    "slideshow": {
     "slide_type": "-"
    }
   },
   "outputs": [],
   "source": [
    "# first we need to reorder the teams in the PAC12 ordering\n",
    "\n",
    "print(P12_teams['global_ind'].tolist())\n",
    "\n",
    "glob_P12_dict = {j:i for i,j in enumerate(P12_teams['global_ind'].tolist())}\n",
    "print(glob_P12_dict)"
   ]
  },
  {
   "cell_type": "code",
   "execution_count": null,
   "metadata": {
    "slideshow": {
     "slide_type": "-"
    }
   },
   "outputs": [],
   "source": [
    "# construct B\n",
    "\n",
    "B = np.zeros((num_P12_games, num_P12_teams))\n",
    "\n",
    "for ii,g in enumerate(P12_df.index):\n",
    "    team1_global_ind = P12_df['team1'][g]\n",
    "    team1_P12_ind = glob_P12_dict[team1_global_ind]    \n",
    "    B[ii,team1_P12_ind] = 1\n",
    "\n",
    "    team2_global_ind = P12_df['team2'][g]\n",
    "    team2_P12_ind = glob_P12_dict[team2_global_ind]    \n",
    "    B[ii,team2_P12_ind] = -1\n"
   ]
  },
  {
   "cell_type": "code",
   "execution_count": null,
   "metadata": {
    "slideshow": {
     "slide_type": "-"
    }
   },
   "outputs": [],
   "source": [
    "# now we have enough information just to print the  game results \n",
    "for i,sc in enumerate(y):\n",
    "    head = np.where(B[i,:]==1)[0][0]\n",
    "    tail = np.where(B[i,:]==-1)[0][0]\n",
    "    print(P12_teams['team'][head] + ' vs. ' + P12_teams['team'][tail] + ': ' +str(sc))"
   ]
  },
  {
   "cell_type": "markdown",
   "metadata": {
    "slideshow": {
     "slide_type": "-"
    }
   },
   "source": [
    "We now use the *lstsq* function in the np.linalg library to find the least squares rating, solving the least squares problem, \n",
    "$$\n",
    "\\min_{\\phi} \\ \\| B \\phi - y \\|^2. \n",
    "$$"
   ]
  },
  {
   "cell_type": "code",
   "execution_count": null,
   "metadata": {
    "slideshow": {
     "slide_type": "-"
    }
   },
   "outputs": [],
   "source": [
    "phi = np.linalg.lstsq(B,y,rcond=.1)[0]\n",
    "print(phi)"
   ]
  },
  {
   "cell_type": "code",
   "execution_count": null,
   "metadata": {
    "slideshow": {
     "slide_type": "-"
    }
   },
   "outputs": [],
   "source": [
    "P12_teams['rating'] = phi\n",
    "print(P12_teams)"
   ]
  },
  {
   "cell_type": "markdown",
   "metadata": {
    "slideshow": {
     "slide_type": "-"
    }
   },
   "source": [
    "## Sort the ratings to generate a ranking\n"
   ]
  },
  {
   "cell_type": "code",
   "execution_count": null,
   "metadata": {
    "slideshow": {
     "slide_type": "-"
    }
   },
   "outputs": [],
   "source": [
    "P12_rankings = P12_teams.sort_values('rating', axis=0, ascending=False)\n",
    "P12_rankings['ranking'] = np.arange(1,num_P12_teams+1)\n",
    "P12_rankings.set_index('ranking',inplace=True)\n",
    "P12_rankings.drop('global_ind',axis=1,inplace=True)\n",
    "print(P12_rankings)"
   ]
  },
  {
   "cell_type": "markdown",
   "metadata": {
    "slideshow": {
     "slide_type": "-"
    }
   },
   "source": [
    "Compare against the 2017 PAC 12 rankings [here](https://en.wikipedia.org/wiki/2017_Pac-12_Conference_football_season)."
   ]
  },
  {
   "cell_type": "markdown",
   "metadata": {
    "slideshow": {
     "slide_type": "slide"
    }
   },
   "source": [
    "## Visualize the schedule for the Pac-12 teams"
   ]
  },
  {
   "cell_type": "code",
   "execution_count": null,
   "metadata": {
    "slideshow": {
     "slide_type": "-"
    }
   },
   "outputs": [],
   "source": [
    "# make graph\n",
    "Lap = np.dot(np.transpose(B),B)\n",
    "adj = -Lap + np.diag(np.diag(Lap))\n",
    "game_graph = nx.from_numpy_array(adj)\n",
    "\n",
    "# Calculate the layout positions first\n",
    "pos = nx.spring_layout(game_graph)\n",
    "\n",
    "# labeling needs a dictionary\n",
    "label_dict = {i:j for i,j in enumerate(P12_teams['team'].tolist())}\n",
    "\n",
    "# draw graph\n",
    "nx.draw_networkx(game_graph, pos=pos, node_size=3000, labels = label_dict, node_shape='s')\n",
    "plt.show()\n"
   ]
  },
  {
   "cell_type": "markdown",
   "metadata": {},
   "source": [
    "The above network representation may distort what's going on. Let's try another layout and also try some additional encodings."
   ]
  },
  {
   "cell_type": "code",
   "execution_count": null,
   "metadata": {},
   "outputs": [],
   "source": [
    "# Calculate size from rankings\n",
    "P12_sizes = [4000 * (x + 1) for x in P12_teams['rating']]\n",
    "P12_colors = [((0.4 - x), (0.6 - x), 1.0) for x in P12_teams['rating']]\n",
    "\n",
    "# Rather than calculating a circular layout and then applying, we can ask networkx to do so directly\n",
    "nx.draw_circular(game_graph, node_size=P12_sizes, node_color=P12_colors, labels = label_dict)\n",
    "plt.show()"
   ]
  },
  {
   "cell_type": "markdown",
   "metadata": {
    "slideshow": {
     "slide_type": "-"
    }
   },
   "source": [
    "**Exercises:** \n",
    "1. Use the least squares method to rank all of the teams (not just the Pac-12 ones).\n",
    "+ Use the least squares method to find the 2018 rankings. "
   ]
  }
 ],
 "metadata": {
  "anaconda-cloud": {},
  "celltoolbar": "Slideshow",
  "kernelspec": {
   "display_name": "Python 3 (ipykernel)",
   "language": "python",
   "name": "python3"
  },
  "language_info": {
   "codemirror_mode": {
    "name": "ipython",
    "version": 3
   },
   "file_extension": ".py",
   "mimetype": "text/x-python",
   "name": "python",
   "nbconvert_exporter": "python",
   "pygments_lexer": "ipython3",
   "version": "3.11.1"
  }
 },
 "nbformat": 4,
 "nbformat_minor": 1
}
